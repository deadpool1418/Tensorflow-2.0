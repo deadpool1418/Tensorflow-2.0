{
 "cells": [
  {
   "cell_type": "code",
   "execution_count": 26,
   "metadata": {},
   "outputs": [],
   "source": [
    "import tensorflow as tf"
   ]
  },
  {
   "cell_type": "code",
   "execution_count": 36,
   "metadata": {},
   "outputs": [
    {
     "name": "stdout",
     "output_type": "stream",
     "text": [
      "x_train.shape: (60000, 28, 28)\n"
     ]
    }
   ],
   "source": [
    "mnist = tf.keras.datasets.mnist\n",
    "(x_train, y_train), (x_test, y_test) = mnist.load_data()\n",
    "x_train, x_test = x_train / 255.0, x_test / 255.0\n",
    "print(\"x_train.shape:\", x_train.shape)"
   ]
  },
  {
   "cell_type": "code",
   "execution_count": 30,
   "metadata": {},
   "outputs": [],
   "source": [
    "model = tf.keras.models.Sequential([\n",
    "  tf.keras.layers.Flatten(input_shape=(28, 28)),\n",
    "  tf.keras.layers.Dense(128, activation='relu'),\n",
    "  tf.keras.layers.Dropout(0.2),\n",
    "  tf.keras.layers.Dense(10, activation='softmax')\n",
    "])"
   ]
  },
  {
   "cell_type": "code",
   "execution_count": 32,
   "metadata": {},
   "outputs": [],
   "source": [
    "model.compile(optimizer='adam',\n",
    "              loss='sparse_categorical_crossentropy',\n",
    "              metrics=['accuracy'])\n"
   ]
  },
  {
   "cell_type": "code",
   "execution_count": 34,
   "metadata": {},
   "outputs": [
    {
     "name": "stdout",
     "output_type": "stream",
     "text": [
      "Train on 60000 samples, validate on 10000 samples\n",
      "Epoch 1/10\n",
      "60000/60000 [==============================] - 4s 75us/sample - loss: 0.0403 - acc: 0.9868 - val_loss: 0.0735 - val_acc: 0.9796\n",
      "Epoch 2/10\n",
      "60000/60000 [==============================] - 4s 74us/sample - loss: 0.0375 - acc: 0.9877 - val_loss: 0.0685 - val_acc: 0.9803\n",
      "Epoch 3/10\n",
      "60000/60000 [==============================] - 4s 70us/sample - loss: 0.0343 - acc: 0.9887 - val_loss: 0.0741 - val_acc: 0.9798\n",
      "Epoch 4/10\n",
      "60000/60000 [==============================] - 5s 86us/sample - loss: 0.0332 - acc: 0.9887 - val_loss: 0.0741 - val_acc: 0.9809\n",
      "Epoch 5/10\n",
      "60000/60000 [==============================] - 5s 79us/sample - loss: 0.0311 - acc: 0.9892 - val_loss: 0.0707 - val_acc: 0.9818\n",
      "Epoch 6/10\n",
      "60000/60000 [==============================] - 5s 81us/sample - loss: 0.0286 - acc: 0.9903 - val_loss: 0.0739 - val_acc: 0.9814\n",
      "Epoch 7/10\n",
      "60000/60000 [==============================] - 5s 85us/sample - loss: 0.0306 - acc: 0.9894 - val_loss: 0.0729 - val_acc: 0.9816\n",
      "Epoch 8/10\n",
      "60000/60000 [==============================] - 4s 75us/sample - loss: 0.0262 - acc: 0.9908 - val_loss: 0.0756 - val_acc: 0.9809\n",
      "Epoch 9/10\n",
      "60000/60000 [==============================] - 4s 74us/sample - loss: 0.0241 - acc: 0.9916 - val_loss: 0.0788 - val_acc: 0.9809\n",
      "Epoch 10/10\n",
      "60000/60000 [==============================] - 4s 73us/sample - loss: 0.0231 - acc: 0.9924 - val_loss: 0.0807 - val_acc: 0.9823\n"
     ]
    }
   ],
   "source": [
    "r = model.fit(x_train, y_train, validation_data=(x_test, y_test), epochs=10)"
   ]
  },
  {
   "cell_type": "code",
   "execution_count": 35,
   "metadata": {},
   "outputs": [],
   "source": [
    "model.save(\"ANN_MNIST.h5\")"
   ]
  }
 ],
 "metadata": {
  "kernelspec": {
   "display_name": "Python 3",
   "language": "python",
   "name": "python3"
  },
  "language_info": {
   "codemirror_mode": {
    "name": "ipython",
    "version": 3
   },
   "file_extension": ".py",
   "mimetype": "text/x-python",
   "name": "python",
   "nbconvert_exporter": "python",
   "pygments_lexer": "ipython3",
   "version": "3.7.3"
  }
 },
 "nbformat": 4,
 "nbformat_minor": 2
}
