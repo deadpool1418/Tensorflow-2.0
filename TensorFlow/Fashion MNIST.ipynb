{
 "cells": [
  {
   "cell_type": "code",
   "execution_count": 4,
   "metadata": {},
   "outputs": [],
   "source": [
    "import tensorflow as tf\n",
    "import numpy as np\n",
    "import matplotlib.pyplot as plt\n",
    "from tensorflow.keras.layers import Input,Dense,Conv2D,Flatten,Dropout\n",
    "from tensorflow.keras.models import Model"
   ]
  },
  {
   "cell_type": "code",
   "execution_count": 5,
   "metadata": {},
   "outputs": [
    {
     "name": "stdout",
     "output_type": "stream",
     "text": [
      "Downloading data from https://storage.googleapis.com/tensorflow/tf-keras-datasets/train-labels-idx1-ubyte.gz\n",
      "32768/29515 [=================================] - 0s 4us/step\n",
      "Downloading data from https://storage.googleapis.com/tensorflow/tf-keras-datasets/train-images-idx3-ubyte.gz\n",
      "26427392/26421880 [==============================] - 82s 3us/step\n",
      "Downloading data from https://storage.googleapis.com/tensorflow/tf-keras-datasets/t10k-labels-idx1-ubyte.gz\n",
      "8192/5148 [===============================================] - 0s 0us/step\n",
      "Downloading data from https://storage.googleapis.com/tensorflow/tf-keras-datasets/t10k-images-idx3-ubyte.gz\n",
      "4423680/4422102 [==============================] - 14s 3us/step\n",
      "(60000, 28, 28)\n"
     ]
    }
   ],
   "source": [
    "fashion_mnist=tf.keras.datasets.fashion_mnist\n",
    "(X_train,y_train),(X_test,y_test)=fashion_mnist.load_data()\n",
    "X_train,X_test=X_train/255.0,X_test/255.0\n",
    "print(X_train.shape)"
   ]
  },
  {
   "cell_type": "code",
   "execution_count": 6,
   "metadata": {},
   "outputs": [
    {
     "name": "stdout",
     "output_type": "stream",
     "text": [
      "(60000, 28, 28, 1)\n"
     ]
    }
   ],
   "source": [
    "X_train=np.expand_dims(X_train,-1)\n",
    "X_test=np.expand_dims(X_test,-1)\n",
    "print(X_train.shape)"
   ]
  },
  {
   "cell_type": "code",
   "execution_count": 8,
   "metadata": {},
   "outputs": [
    {
     "name": "stdout",
     "output_type": "stream",
     "text": [
      "10\n"
     ]
    }
   ],
   "source": [
    "K=len(set(y_train))\n",
    "print(K)"
   ]
  },
  {
   "cell_type": "code",
   "execution_count": 11,
   "metadata": {},
   "outputs": [],
   "source": [
    "i=Input(shape=X_train[0].shape)\n",
    "x=Conv2D(32,(3,3),strides=2,activation='relu')(i)\n",
    "x=Conv2D(64,(3,3),strides=2,activation='relu')(x)\n",
    "x=Conv2D(128,(3,3),strides=2,activation='relu')(x)\n",
    "x=Flatten()(x)\n",
    "x=Dropout(0.2)(x)\n",
    "x=Dense(512,activation='relu')(x)\n",
    "x=Dropout(0.2)(x)\n",
    "x=Dense(K,activation='softmax')(x)\n",
    "model=Model(i,x)"
   ]
  },
  {
   "cell_type": "code",
   "execution_count": 12,
   "metadata": {},
   "outputs": [
    {
     "name": "stdout",
     "output_type": "stream",
     "text": [
      "Train on 60000 samples, validate on 10000 samples\n",
      "Epoch 1/15\n",
      "60000/60000 [==============================] - 31s 511us/sample - loss: 0.5137 - acc: 0.8100 - val_loss: 0.3895 - val_acc: 0.8549\n",
      "Epoch 2/15\n",
      "60000/60000 [==============================] - 29s 476us/sample - loss: 0.3589 - acc: 0.8654 - val_loss: 0.3427 - val_acc: 0.8737\n",
      "Epoch 3/15\n",
      "60000/60000 [==============================] - 29s 488us/sample - loss: 0.3086 - acc: 0.8831 - val_loss: 0.3208 - val_acc: 0.8810\n",
      "Epoch 4/15\n",
      "60000/60000 [==============================] - 30s 495us/sample - loss: 0.2753 - acc: 0.8959 - val_loss: 0.3044 - val_acc: 0.8885\n",
      "Epoch 5/15\n",
      "60000/60000 [==============================] - 30s 496us/sample - loss: 0.2511 - acc: 0.9055 - val_loss: 0.2949 - val_acc: 0.8944\n",
      "Epoch 6/15\n",
      "60000/60000 [==============================] - 30s 496us/sample - loss: 0.2291 - acc: 0.9138 - val_loss: 0.2913 - val_acc: 0.9000\n",
      "Epoch 7/15\n",
      "60000/60000 [==============================] - 30s 503us/sample - loss: 0.2100 - acc: 0.9210 - val_loss: 0.3021 - val_acc: 0.8969\n",
      "Epoch 8/15\n",
      "60000/60000 [==============================] - 30s 503us/sample - loss: 0.1923 - acc: 0.9260 - val_loss: 0.2973 - val_acc: 0.9009\n",
      "Epoch 9/15\n",
      "60000/60000 [==============================] - 30s 500us/sample - loss: 0.1789 - acc: 0.9320 - val_loss: 0.3114 - val_acc: 0.9006\n",
      "Epoch 10/15\n",
      "60000/60000 [==============================] - 31s 512us/sample - loss: 0.1660 - acc: 0.9359 - val_loss: 0.3168 - val_acc: 0.8971\n",
      "Epoch 11/15\n",
      "60000/60000 [==============================] - 31s 525us/sample - loss: 0.1566 - acc: 0.9395 - val_loss: 0.3088 - val_acc: 0.9043\n",
      "Epoch 12/15\n",
      "60000/60000 [==============================] - 32s 528us/sample - loss: 0.1472 - acc: 0.9436 - val_loss: 0.3383 - val_acc: 0.9005\n",
      "Epoch 13/15\n",
      "60000/60000 [==============================] - 32s 532us/sample - loss: 0.1359 - acc: 0.9479 - val_loss: 0.3453 - val_acc: 0.9023\n",
      "Epoch 14/15\n",
      "60000/60000 [==============================] - 33s 554us/sample - loss: 0.1306 - acc: 0.9499 - val_loss: 0.3699 - val_acc: 0.8995\n",
      "Epoch 15/15\n",
      "60000/60000 [==============================] - 34s 564us/sample - loss: 0.1230 - acc: 0.9533 - val_loss: 0.3809 - val_acc: 0.9024\n"
     ]
    }
   ],
   "source": [
    "model.compile(optimizer='adam',loss='sparse_categorical_crossentropy',metrics=['accuracy'])\n",
    "r=model.fit(X_train,y_train,validation_data=(X_test,y_test),epochs=15)"
   ]
  },
  {
   "cell_type": "code",
   "execution_count": 16,
   "metadata": {},
   "outputs": [
    {
     "ename": "KeyError",
     "evalue": "'val_accuracy'",
     "output_type": "error",
     "traceback": [
      "\u001b[0;31m---------------------------------------------------------------------------\u001b[0m",
      "\u001b[0;31mKeyError\u001b[0m                                  Traceback (most recent call last)",
      "\u001b[0;32m<ipython-input-16-ce3b7c55937b>\u001b[0m in \u001b[0;36m<module>\u001b[0;34m\u001b[0m\n\u001b[1;32m      1\u001b[0m \u001b[0;34m\u001b[0m\u001b[0m\n\u001b[0;32m----> 2\u001b[0;31m \u001b[0mplt\u001b[0m\u001b[0;34m.\u001b[0m\u001b[0mplot\u001b[0m\u001b[0;34m(\u001b[0m\u001b[0mr\u001b[0m\u001b[0;34m.\u001b[0m\u001b[0mhistory\u001b[0m\u001b[0;34m[\u001b[0m\u001b[0;34m'val_accuracy'\u001b[0m\u001b[0;34m]\u001b[0m\u001b[0;34m,\u001b[0m \u001b[0mlabel\u001b[0m\u001b[0;34m=\u001b[0m\u001b[0;34m'val_acc'\u001b[0m\u001b[0;34m)\u001b[0m\u001b[0;34m\u001b[0m\u001b[0;34m\u001b[0m\u001b[0m\n\u001b[0m\u001b[1;32m      3\u001b[0m \u001b[0mplt\u001b[0m\u001b[0;34m.\u001b[0m\u001b[0mlegend\u001b[0m\u001b[0;34m(\u001b[0m\u001b[0;34m)\u001b[0m\u001b[0;34m\u001b[0m\u001b[0;34m\u001b[0m\u001b[0m\n",
      "\u001b[0;31mKeyError\u001b[0m: 'val_accuracy'"
     ]
    }
   ],
   "source": [
    "plt.plot(r.history['accuracy'], label='acc')\n",
    "plt.plot(r.history['val_accuracy'], label='val_acc')\n",
    "plt.legend()"
   ]
  }
 ],
 "metadata": {
  "kernelspec": {
   "display_name": "Python 3",
   "language": "python",
   "name": "python3"
  },
  "language_info": {
   "codemirror_mode": {
    "name": "ipython",
    "version": 3
   },
   "file_extension": ".py",
   "mimetype": "text/x-python",
   "name": "python",
   "nbconvert_exporter": "python",
   "pygments_lexer": "ipython3",
   "version": "3.7.3"
  }
 },
 "nbformat": 4,
 "nbformat_minor": 2
}
